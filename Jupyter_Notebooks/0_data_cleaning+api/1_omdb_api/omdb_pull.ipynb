{
 "cells": [
  {
   "cell_type": "code",
   "execution_count": 5,
   "id": "b53be506",
   "metadata": {},
   "outputs": [
    {
     "ename": "ModuleNotFoundError",
     "evalue": "No module named 'config'",
     "output_type": "error",
     "traceback": [
      "\u001b[1;31m---------------------------------------------------------------------------\u001b[0m",
      "\u001b[1;31mModuleNotFoundError\u001b[0m                       Traceback (most recent call last)",
      "\u001b[1;32m~\\AppData\\Local\\Temp/ipykernel_22868/2425990443.py\u001b[0m in \u001b[0;36m<module>\u001b[1;34m\u001b[0m\n\u001b[0;32m      4\u001b[0m \u001b[1;32mimport\u001b[0m \u001b[0mnumpy\u001b[0m \u001b[1;32mas\u001b[0m \u001b[0mnp\u001b[0m\u001b[1;33m\u001b[0m\u001b[1;33m\u001b[0m\u001b[0m\n\u001b[0;32m      5\u001b[0m \u001b[1;32mfrom\u001b[0m \u001b[0mpprint\u001b[0m \u001b[1;32mimport\u001b[0m \u001b[0mpprint\u001b[0m\u001b[1;33m\u001b[0m\u001b[1;33m\u001b[0m\u001b[0m\n\u001b[1;32m----> 6\u001b[1;33m \u001b[1;32mfrom\u001b[0m \u001b[0mconfig\u001b[0m \u001b[1;32mimport\u001b[0m \u001b[0mkeyomdb\u001b[0m\u001b[1;33m\u001b[0m\u001b[1;33m\u001b[0m\u001b[0m\n\u001b[0m",
      "\u001b[1;31mModuleNotFoundError\u001b[0m: No module named 'config'"
     ]
    }
   ],
   "source": [
    "import pandas as pd\n",
    "import requests\n",
    "import json\n",
    "import numpy as np\n",
    "from pprint import pprint\n",
    "from config import keyomdb\n"
   ]
  },
  {
   "cell_type": "code",
   "execution_count": 6,
   "id": "07ee9fdf",
   "metadata": {},
   "outputs": [],
   "source": [
    "#read and display dataframe of nextflix originals\n",
    "file = \"../../../Resources/NetflixOriginals.csv\"\n",
    "originals_df = pd.read_csv(file)\n",
    "originals_df[\"Omdb Review Score\"] = np.nan\n",
    "originals_df[\"Omdb Review Count\"] = np.nan\n",
    "test_df = originals_df.head(2)"
   ]
  },
  {
   "cell_type": "code",
   "execution_count": 7,
   "id": "d87a20cb",
   "metadata": {},
   "outputs": [
    {
     "name": "stdout",
     "output_type": "stream",
     "text": [
      "Title                 object\n",
      "Genre                 object\n",
      "Premiere              object\n",
      "Runtime                int64\n",
      "IMDB Score           float64\n",
      "Language              object\n",
      "Omdb Review Score    float64\n",
      "Omdb Review Count    float64\n",
      "dtype: object\n"
     ]
    },
    {
     "data": {
      "text/html": [
       "<div>\n",
       "<style scoped>\n",
       "    .dataframe tbody tr th:only-of-type {\n",
       "        vertical-align: middle;\n",
       "    }\n",
       "\n",
       "    .dataframe tbody tr th {\n",
       "        vertical-align: top;\n",
       "    }\n",
       "\n",
       "    .dataframe thead th {\n",
       "        text-align: right;\n",
       "    }\n",
       "</style>\n",
       "<table border=\"1\" class=\"dataframe\">\n",
       "  <thead>\n",
       "    <tr style=\"text-align: right;\">\n",
       "      <th></th>\n",
       "      <th>Title</th>\n",
       "      <th>Genre</th>\n",
       "      <th>Premiere</th>\n",
       "      <th>Runtime</th>\n",
       "      <th>IMDB Score</th>\n",
       "      <th>Language</th>\n",
       "      <th>Omdb Review Score</th>\n",
       "      <th>Omdb Review Count</th>\n",
       "    </tr>\n",
       "  </thead>\n",
       "  <tbody>\n",
       "    <tr>\n",
       "      <th>0</th>\n",
       "      <td>Enter the Anime</td>\n",
       "      <td>Documentary</td>\n",
       "      <td>August 5, 2019</td>\n",
       "      <td>58</td>\n",
       "      <td>2.5</td>\n",
       "      <td>English/Japanese</td>\n",
       "      <td>NaN</td>\n",
       "      <td>NaN</td>\n",
       "    </tr>\n",
       "    <tr>\n",
       "      <th>1</th>\n",
       "      <td>Dark Forces</td>\n",
       "      <td>Thriller</td>\n",
       "      <td>August 21, 2020</td>\n",
       "      <td>81</td>\n",
       "      <td>2.6</td>\n",
       "      <td>Spanish</td>\n",
       "      <td>NaN</td>\n",
       "      <td>NaN</td>\n",
       "    </tr>\n",
       "  </tbody>\n",
       "</table>\n",
       "</div>"
      ],
      "text/plain": [
       "             Title        Genre         Premiere  Runtime  IMDB Score  \\\n",
       "0  Enter the Anime  Documentary   August 5, 2019       58         2.5   \n",
       "1      Dark Forces     Thriller  August 21, 2020       81         2.6   \n",
       "\n",
       "           Language  Omdb Review Score  Omdb Review Count  \n",
       "0  English/Japanese                NaN                NaN  \n",
       "1           Spanish                NaN                NaN  "
      ]
     },
     "execution_count": 7,
     "metadata": {},
     "output_type": "execute_result"
    }
   ],
   "source": [
    "print(test_df.dtypes)\n",
    "test_df"
   ]
  },
  {
   "cell_type": "code",
   "execution_count": null,
   "id": "04d2bc2a",
   "metadata": {},
   "outputs": [
    {
     "name": "stdout",
     "output_type": "stream",
     "text": [
      "Leyla Everlasting not found, skipping\n",
      "The Misadventures of Hedi and Cokeman not found, skipping\n",
      "5 Star Christmas not found, skipping\n",
      "Paris Is Us not found, skipping\n",
      "Porta dos Fundos: The First Temptation of Christ not found, skipping\n",
      "Christmas Crossfire not found, skipping\n",
      "Nobody Sleeps in the Woods Tonight not found, skipping\n",
      "Earth and Blood not found, skipping\n",
      "Love Like the Falling Rain not found, skipping\n",
      "Squared Love not found, skipping\n",
      "#REALITYHIGH not found, skipping\n",
      "Dolly Parton's Christmas on the Square not found, skipping\n",
      "The Most Assassinated Woman in the World not found, skipping\n",
      "Who Would You Take to a Deserted Island? not found, skipping\n",
      "Despite Everything not found, skipping\n",
      "Dolly Kitty and Those Twinkling Stars not found, skipping\n",
      "Under the Riccione Sun not found, skipping\n",
      "�l�t?r� not found, skipping\n",
      "Bomb Scared not found, skipping\n",
      "Double Dad not found, skipping\n",
      "One-Way to Tomorrow not found, skipping\n",
      "The Last Paradiso not found, skipping\n",
      "Caught by a Wave not found, skipping\n",
      "Dad Wanted not found, skipping\n",
      "Choked: Paisa Bolta Hai not found, skipping\n",
      "Rising High not found, skipping\n",
      "What We Wanted not found, skipping\n",
      "You've Got This not found, skipping\n",
      "Holiday in the Wild not found, skipping\n",
      "Rogue City not found, skipping\n",
      "Stuck Apart not found, skipping\n",
      "Tribhanga � Tedhi Medhi Crazy not found, skipping\n",
      "Baggio: The Divine Ponytail not found, skipping\n",
      "Crazy Awesome Teachers not found, skipping\n",
      "Have You Ever Seen Fireflies? not found, skipping\n",
      "Offering to the Storm not found, skipping\n",
      "Voyuer  not found, skipping\n",
      "Get the Goat not found, skipping\n",
      "I Am Not an Easy Man not found, skipping\n",
      "Nail Bomber: Manhunt not found, skipping\n",
      "Notes for My Son not found, skipping\n",
      "Porta dos Fundos: The Last Hangover not found, skipping\n",
      "Time to Hunt not found, skipping\n",
      "Como Ca�do del Cielo not found, skipping\n",
      "Street Flow not found, skipping\n",
      "Sturgill Simpson Presents: Sound & Fury not found, skipping\n",
      "The Heartbreak Club not found, skipping\n",
      "Two Catalonias not found, skipping\n",
      "Mowgli: Legend of the Jungle not found, skipping\n",
      "Nobody Knows I'm Here not found, skipping\n",
      "Space Sweepers not found, skipping\n",
      "The Red Sea Diving Resort not found, skipping\n",
      "A Whisker Away not found, skipping\n",
      "Hope Frozen: A Quest to Live Twice not found, skipping\n",
      "Just Another Christmas not found, skipping\n",
      "Paper Lives not found, skipping\n",
      "Parchis: The Documentary not found, skipping\n",
      "7 a�os not found, skipping\n",
      "A Life of Speed: The Juan Manuel Fangio Story not found, skipping\n",
      "Long Live Brij Mohan not found, skipping\n",
      "Spelling the Dream not found, skipping\n",
      "The Lonely Island Presents: The Unauthorized Bash Brothers Experience not found, skipping\n",
      "I'm No Longer Here: A Discussion with Guillermo del Toro and Alfonso Cuaron not found, skipping\n",
      "Lorena, Light-Footed Woman not found, skipping\n",
      "Ma Rainey's Black Bottom: A Legacy Brought to Screen not found, skipping\n",
      "Rose Island not found, skipping\n",
      "El Pepe: A Supreme Life not found, skipping\n",
      "Guillermo Vilas: Settling the Score not found, skipping\n",
      "Fyre: The Greatest Party That Never Happened not found, skipping\n",
      "The 40-Year-Old Version not found, skipping\n",
      "The Road to El Camino: A Breaking Bad Movie not found, skipping\n",
      "I'm No Longer Here not found, skipping\n"
     ]
    }
   ],
   "source": [
    "base_url = \"http://www.omdbapi.com/?\"\n",
    "\n",
    "\n",
    "for index, row in originals_df.iterrows():\n",
    "    nfspecial = row['Title']\n",
    "    url = base_url + keyomdb + \"&t=\" + nfspecial\n",
    "    response = requests.get(url)\n",
    "    data = response.json()\n",
    "    try:\n",
    "        originals_df.loc[index, \"Omdb Review Score\"] = data[\"imdbRating\"]    \n",
    "        originals_df.loc[index, \"Omdb Review Count\"] = data[\"imdbVotes\"]\n",
    "    except (KeyError, IndexError):\n",
    "        print(f\"{nfspecial} not found, skipping\")\n",
    "    \n",
    "    \n",
    "originals_df"
   ]
  },
  {
   "cell_type": "code",
   "execution_count": null,
   "id": "0ae56d33",
   "metadata": {},
   "outputs": [],
   "source": [
    "originals_df.to_csv(\"../../../Resources/omdb_pull.csv\")"
   ]
  },
  {
   "cell_type": "code",
   "execution_count": null,
   "id": "c43083ea",
   "metadata": {},
   "outputs": [],
   "source": []
  }
 ],
 "metadata": {
  "kernelspec": {
   "display_name": "Python 3 (ipykernel)",
   "language": "python",
   "name": "python3"
  },
  "language_info": {
   "codemirror_mode": {
    "name": "ipython",
    "version": 3
   },
   "file_extension": ".py",
   "mimetype": "text/x-python",
   "name": "python",
   "nbconvert_exporter": "python",
   "pygments_lexer": "ipython3",
   "version": "3.8.10"
  }
 },
 "nbformat": 4,
 "nbformat_minor": 5
}
